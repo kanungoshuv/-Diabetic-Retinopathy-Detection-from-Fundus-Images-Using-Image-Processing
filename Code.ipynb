{
 "cells": [
  {
   "cell_type": "code",
   "execution_count": 1,
   "metadata": {},
   "outputs": [
    {
     "name": "stdout",
     "output_type": "stream",
     "text": [
      "Requirement already satisfied: mlxtend in /Library/Frameworks/Python.framework/Versions/3.10/lib/python3.10/site-packages (0.21.0)\n",
      "Requirement already satisfied: matplotlib>=3.0.0 in /Library/Frameworks/Python.framework/Versions/3.10/lib/python3.10/site-packages (from mlxtend) (3.5.1)\n",
      "Requirement already satisfied: scikit-learn>=1.0.2 in /Library/Frameworks/Python.framework/Versions/3.10/lib/python3.10/site-packages (from mlxtend) (1.2.0)\n",
      "Requirement already satisfied: scipy>=1.2.1 in /Library/Frameworks/Python.framework/Versions/3.10/lib/python3.10/site-packages (from mlxtend) (1.8.0)\n",
      "Requirement already satisfied: numpy>=1.16.2 in /Library/Frameworks/Python.framework/Versions/3.10/lib/python3.10/site-packages (from mlxtend) (1.22.3)\n",
      "Requirement already satisfied: setuptools in /Library/Frameworks/Python.framework/Versions/3.10/lib/python3.10/site-packages (from mlxtend) (58.1.0)\n",
      "Requirement already satisfied: joblib>=0.13.2 in /Library/Frameworks/Python.framework/Versions/3.10/lib/python3.10/site-packages (from mlxtend) (1.2.0)\n",
      "Requirement already satisfied: pandas>=0.24.2 in /Library/Frameworks/Python.framework/Versions/3.10/lib/python3.10/site-packages (from mlxtend) (1.4.1)\n",
      "Requirement already satisfied: python-dateutil>=2.7 in /Library/Frameworks/Python.framework/Versions/3.10/lib/python3.10/site-packages (from matplotlib>=3.0.0->mlxtend) (2.8.2)\n",
      "Requirement already satisfied: packaging>=20.0 in /Library/Frameworks/Python.framework/Versions/3.10/lib/python3.10/site-packages (from matplotlib>=3.0.0->mlxtend) (21.3)\n",
      "Requirement already satisfied: kiwisolver>=1.0.1 in /Library/Frameworks/Python.framework/Versions/3.10/lib/python3.10/site-packages (from matplotlib>=3.0.0->mlxtend) (1.4.0)\n",
      "Requirement already satisfied: fonttools>=4.22.0 in /Library/Frameworks/Python.framework/Versions/3.10/lib/python3.10/site-packages (from matplotlib>=3.0.0->mlxtend) (4.31.1)\n",
      "Requirement already satisfied: cycler>=0.10 in /Library/Frameworks/Python.framework/Versions/3.10/lib/python3.10/site-packages (from matplotlib>=3.0.0->mlxtend) (0.11.0)\n",
      "Requirement already satisfied: pyparsing>=2.2.1 in /Library/Frameworks/Python.framework/Versions/3.10/lib/python3.10/site-packages (from matplotlib>=3.0.0->mlxtend) (3.0.7)\n",
      "Requirement already satisfied: pillow>=6.2.0 in /Library/Frameworks/Python.framework/Versions/3.10/lib/python3.10/site-packages (from matplotlib>=3.0.0->mlxtend) (9.0.1)\n",
      "Requirement already satisfied: pytz>=2020.1 in /Library/Frameworks/Python.framework/Versions/3.10/lib/python3.10/site-packages (from pandas>=0.24.2->mlxtend) (2021.3)\n",
      "Requirement already satisfied: six>=1.5 in /Library/Frameworks/Python.framework/Versions/3.10/lib/python3.10/site-packages (from python-dateutil>=2.7->matplotlib>=3.0.0->mlxtend) (1.16.0)\n",
      "Requirement already satisfied: threadpoolctl>=2.0.0 in /Library/Frameworks/Python.framework/Versions/3.10/lib/python3.10/site-packages (from scikit-learn>=1.0.2->mlxtend) (3.1.0)\n",
      "\u001b[33mWARNING: You are using pip version 21.2.4; however, version 23.0 is available.\n",
      "You should consider upgrading via the '/Library/Frameworks/Python.framework/Versions/3.10/bin/python3.10 -m pip install --upgrade pip' command.\u001b[0m\n"
     ]
    }
   ],
   "source": [
    "!pip3 install mlxtend"
   ]
  },
  {
   "cell_type": "code",
   "execution_count": 2,
   "metadata": {},
   "outputs": [
    {
     "ename": "ModuleNotFoundError",
     "evalue": "No module named 'mlxtend'",
     "output_type": "error",
     "traceback": [
      "\u001b[0;31m---------------------------------------------------------------------------\u001b[0m",
      "\u001b[0;31mModuleNotFoundError\u001b[0m                       Traceback (most recent call last)",
      "Cell \u001b[0;32mIn [2], line 15\u001b[0m\n\u001b[1;32m     12\u001b[0m \u001b[38;5;28;01mimport\u001b[39;00m \u001b[38;5;21;01mtensorflow\u001b[39;00m \u001b[38;5;28;01mas\u001b[39;00m \u001b[38;5;21;01mtf\u001b[39;00m\n\u001b[1;32m     13\u001b[0m \u001b[38;5;28;01mimport\u001b[39;00m \u001b[38;5;21;01mpandas\u001b[39;00m \u001b[38;5;28;01mas\u001b[39;00m \u001b[38;5;21;01mpd\u001b[39;00m\n\u001b[0;32m---> 15\u001b[0m \u001b[38;5;28;01mimport\u001b[39;00m \u001b[38;5;21;01mmlxtend\u001b[39;00m \n\u001b[1;32m     16\u001b[0m \u001b[38;5;28;01mfrom\u001b[39;00m \u001b[38;5;21;01mmlxtend\u001b[39;00m\u001b[38;5;21;01m.\u001b[39;00m\u001b[38;5;21;01mplotting\u001b[39;00m \u001b[38;5;28;01mimport\u001b[39;00m plot_confusion_matrix\n\u001b[1;32m     17\u001b[0m \u001b[38;5;28;01mfrom\u001b[39;00m \u001b[38;5;21;01msklearn\u001b[39;00m\u001b[38;5;21;01m.\u001b[39;00m\u001b[38;5;21;01mmetrics\u001b[39;00m \u001b[38;5;28;01mimport\u001b[39;00m confusion_matrix\n",
      "\u001b[0;31mModuleNotFoundError\u001b[0m: No module named 'mlxtend'"
     ]
    }
   ],
   "source": [
    "import matplotlib.pyplot as plt\n",
    "import seaborn as sns\n",
    "\n",
    "import keras\n",
    "from keras.models import Sequential\n",
    "from keras.layers import Dense, Conv2D , MaxPool2D , Flatten , Dropout,BatchNormalization \n",
    "from keras.preprocessing.image import ImageDataGenerator\n",
    "#from keras.optimizers import Adam\n",
    "from tensorflow.keras.optimizers import Adam\n",
    "\n",
    "from sklearn.metrics import classification_report,confusion_matrix\n",
    "import tensorflow as tf\n",
    "import pandas as pd\n",
    "\n",
    "import mlxtend \n",
    "from mlxtend.plotting import plot_confusion_matrix\n",
    "from sklearn.metrics import confusion_matrix\n",
    "\n",
    "#import splitfolders\n",
    "import os\n",
    "import cv2\n",
    "import numpy as np\n",
    "import random"
   ]
  },
  {
   "cell_type": "code",
   "execution_count": null,
   "metadata": {
    "id": "a-hmBWbRAoX7"
   },
   "outputs": [],
   "source": [
    "import splitfolders\n",
    "splitfolders.ratio('/content/drive/MyDrive/DR/Dataset1', output=\"splitted_data\", seed=1337, ratio=(.8, 0.1,0.1)) "
   ]
  },
  {
   "cell_type": "code",
   "execution_count": null,
   "metadata": {
    "id": "bBZG07kUJmvb"
   },
   "outputs": [],
   "source": [
    "!zip -r '/content/splitted_data.zip' '/content/splitted_data'\n",
    "\n",
    "!cp '/content/splitted_data.zip' -d '/content/drive/MyDrive/DR'"
   ]
  },
  {
   "cell_type": "code",
   "execution_count": 1,
   "metadata": {
    "colab": {
     "base_uri": "https://localhost:8080/"
    },
    "id": "0UuUhNyJ8Hka",
    "outputId": "b1747ced-e411-4905-9a2a-23dc85a72a81"
   },
   "outputs": [
    {
     "name": "stdout",
     "output_type": "stream",
     "text": [
      "Mounted at /content/drive\n"
     ]
    }
   ],
   "source": [
    "from google.colab import drive\n",
    "drive.mount('/content/drive')"
   ]
  },
  {
   "cell_type": "code",
   "execution_count": null,
   "metadata": {
    "id": "BQjuhsHDpH83"
   },
   "outputs": [],
   "source": [
    "train = get_data('/content/drive/MyDrive/Colab Notebooks/CSE499New/train_test_val/train')\n",
    "val = get_data('/content/drive/MyDrive/Colab Notebooks/CSE499New/train_test_val/val')\n",
    "test = get_data('/content/drive/MyDrive/Colab Notebooks/CSE499New/train_test_val/test')"
   ]
  },
  {
   "cell_type": "code",
   "execution_count": null,
   "metadata": {
    "id": "IH6sJte4p8eQ"
   },
   "outputs": [],
   "source": [
    "x_train = []\n",
    "y_train = []\n",
    "x_val = []\n",
    "y_val = []\n",
    "\n",
    "for feature, label in train:\n",
    "    x_train.append(feature)\n",
    "    y_train.append(label)\n",
    "\n",
    "for feature, label in val:\n",
    "    x_val.append(feature)\n",
    "    y_val.append(label)\n",
    "\n",
    "# Normalize the data\n",
    "x_train = np.array(x_train) / 255\n",
    "x_val = np.array(x_val) / 255\n",
    "\n",
    "\n",
    "x_train.reshape(-1, img_size, img_size, 1)\n",
    "y_train = np.array(y_train)\n",
    "\n",
    "x_val.reshape(-1, img_size, img_size, 1)\n",
    "y_val = np.array(y_val)"
   ]
  },
  {
   "cell_type": "code",
   "execution_count": null,
   "metadata": {
    "colab": {
     "base_uri": "https://localhost:8080/"
    },
    "id": "15UJhDhSp_Do",
    "outputId": "36f9aab4-9981-4aba-e7cf-631c48aa2648"
   },
   "outputs": [
    {
     "data": {
      "text/plain": [
       "(5119, 128, 128, 3)"
      ]
     },
     "execution_count": 10,
     "metadata": {},
     "output_type": "execute_result"
    }
   ],
   "source": [
    "x_train.shape"
   ]
  },
  {
   "cell_type": "code",
   "execution_count": null,
   "metadata": {
    "id": "XedBsjp6qBIm"
   },
   "outputs": [],
   "source": [
    "datagen = ImageDataGenerator(\n",
    "        featurewise_center=False,  # set input mean to 0 over the dataset\n",
    "        samplewise_center=False,  # set each sample mean to 0\n",
    "        featurewise_std_normalization=False,  # divide inputs by std of the dataset\n",
    "        samplewise_std_normalization=False,  # divide each input by its std\n",
    "        zca_whitening=False,  # apply ZCA whitening\n",
    "        rotation_range = 30,  # randomly rotate images in the range (degrees, 0 to 180)\n",
    "        zoom_range = 0.3, # Randomly zoom image \n",
    "        width_shift_range=0.1,  # randomly shift images horizontally (fraction of total width)\n",
    "        height_shift_range=0.1,  # randomly shift images vertically (fraction of total height)\n",
    "        horizontal_flip = True,\n",
    "        fill_mode='nearest',  # randomly flip images\n",
    "        vertical_flip=False)  # randomly flip images\n",
    "\n",
    "\n",
    "datagen.fit(x_train)"
   ]
  },
  {
   "cell_type": "code",
   "execution_count": null,
   "metadata": {
    "id": "kArDIl-XqDV3"
   },
   "outputs": [],
   "source": [
    "def get_model():\n",
    "\n",
    "  model = Sequential()\n",
    "  model.add(Conv2D(64,3,padding=\"same\", activation=\"relu\", input_shape=(128,128,3)))\n",
    "  model.add(MaxPool2D())\n",
    "\n",
    "  model.add(Conv2D(64, 3, padding=\"same\", activation=\"relu\"))\n",
    "  model.add(MaxPool2D())\n",
    "  model.add(Dropout(0.2))\n",
    "\n",
    "  #model.add(Conv2D(64, 3, padding=\"same\", activation=\"relu\"))\n",
    "  #model.add(BatchNormalization())\n",
    "  #model.add(MaxPool2D())\n",
    "\n",
    "  model.add(Conv2D(128, 3, padding=\"same\", activation=\"relu\"))\n",
    "  model.add(BatchNormalization())\n",
    "  model.add(MaxPool2D())\n",
    "\n",
    "  model.add(Conv2D(128, 3, padding=\"same\", activation=\"relu\"))\n",
    "  model.add(MaxPool2D())\n",
    "  model.add(Dropout(0.2))\n",
    "\n",
    "\n",
    "  model.add(Flatten())\n",
    "  model.add(Dense(128,activation=\"relu\"))\n",
    "  model.add(Dense(64, activation=\"relu\"))\n",
    "  model.add(Dense(4, activation=\"softmax\"))\n",
    "\n",
    "  return model\n",
    "\n",
    "model=get_model()"
   ]
  },
  {
   "cell_type": "code",
   "execution_count": null,
   "metadata": {
    "colab": {
     "base_uri": "https://localhost:8080/"
    },
    "id": "Obp8RYHEOw0v",
    "outputId": "29f63cc7-ab47-4712-9b8f-948264d03a86"
   },
   "outputs": [
    {
     "name": "stdout",
     "output_type": "stream",
     "text": [
      "Model: \"sequential\"\n",
      "_________________________________________________________________\n",
      " Layer (type)                Output Shape              Param #   \n",
      "=================================================================\n",
      " conv2d (Conv2D)             (None, 128, 128, 64)      1792      \n",
      "                                                                 \n",
      " max_pooling2d (MaxPooling2D  (None, 64, 64, 64)       0         \n",
      " )                                                               \n",
      "                                                                 \n",
      " conv2d_1 (Conv2D)           (None, 64, 64, 64)        36928     \n",
      "                                                                 \n",
      " max_pooling2d_1 (MaxPooling  (None, 32, 32, 64)       0         \n",
      " 2D)                                                             \n",
      "                                                                 \n",
      " dropout (Dropout)           (None, 32, 32, 64)        0         \n",
      "                                                                 \n",
      " conv2d_2 (Conv2D)           (None, 32, 32, 128)       73856     \n",
      "                                                                 \n",
      " batch_normalization (BatchN  (None, 32, 32, 128)      512       \n",
      " ormalization)                                                   \n",
      "                                                                 \n",
      " max_pooling2d_2 (MaxPooling  (None, 16, 16, 128)      0         \n",
      " 2D)                                                             \n",
      "                                                                 \n",
      " conv2d_3 (Conv2D)           (None, 16, 16, 128)       147584    \n",
      "                                                                 \n",
      " max_pooling2d_3 (MaxPooling  (None, 8, 8, 128)        0         \n",
      " 2D)                                                             \n",
      "                                                                 \n",
      " dropout_1 (Dropout)         (None, 8, 8, 128)         0         \n",
      "                                                                 \n",
      " flatten (Flatten)           (None, 8192)              0         \n",
      "                                                                 \n",
      " dense (Dense)               (None, 128)               1048704   \n",
      "                                                                 \n",
      " dense_1 (Dense)             (None, 64)                8256      \n",
      "                                                                 \n",
      " dense_2 (Dense)             (None, 4)                 260       \n",
      "                                                                 \n",
      "=================================================================\n",
      "Total params: 1,317,892\n",
      "Trainable params: 1,317,636\n",
      "Non-trainable params: 256\n",
      "_________________________________________________________________\n"
     ]
    }
   ],
   "source": [
    "model.summary()"
   ]
  },
  {
   "cell_type": "code",
   "execution_count": null,
   "metadata": {
    "id": "T4mBHVzzqGT3"
   },
   "outputs": [],
   "source": [
    "opt = Adam(learning_rate=0.0001)\n",
    "model.compile(optimizer = opt , loss = tf.keras.losses.SparseCategoricalCrossentropy(from_logits=False) , metrics = ['accuracy'])"
   ]
  },
  {
   "cell_type": "code",
   "execution_count": null,
   "metadata": {
    "colab": {
     "base_uri": "https://localhost:8080/"
    },
    "id": "HQQnkYJNqJb0",
    "outputId": "65b7c145-c4c9-4a7f-99bc-1dfc1a8894b9"
   },
   "outputs": [
    {
     "name": "stdout",
     "output_type": "stream",
     "text": [
      "Epoch 1/200\n",
      "80/80 [==============================] - 20s 116ms/step - loss: 1.0712 - accuracy: 0.4909 - val_loss: 1.3169 - val_accuracy: 0.5008\n",
      "Epoch 2/200\n",
      "80/80 [==============================] - 8s 96ms/step - loss: 0.9861 - accuracy: 0.5196 - val_loss: 1.3110 - val_accuracy: 0.5352\n",
      "Epoch 3/200\n",
      "80/80 [==============================] - 8s 95ms/step - loss: 0.9263 - accuracy: 0.5534 - val_loss: 1.2851 - val_accuracy: 0.5243\n",
      "Epoch 4/200\n",
      "80/80 [==============================] - 8s 96ms/step - loss: 0.8955 - accuracy: 0.5700 - val_loss: 1.2293 - val_accuracy: 0.5321\n",
      "Epoch 5/200\n",
      "80/80 [==============================] - 8s 96ms/step - loss: 0.8608 - accuracy: 0.5966 - val_loss: 1.1289 - val_accuracy: 0.5837\n",
      "Epoch 6/200\n",
      "80/80 [==============================] - 8s 95ms/step - loss: 0.8339 - accuracy: 0.6079 - val_loss: 1.0414 - val_accuracy: 0.6135\n",
      "Epoch 7/200\n",
      "80/80 [==============================] - 8s 95ms/step - loss: 0.8083 - accuracy: 0.6296 - val_loss: 0.9894 - val_accuracy: 0.5462\n",
      "Epoch 8/200\n",
      "80/80 [==============================] - 8s 96ms/step - loss: 0.7690 - accuracy: 0.6576 - val_loss: 0.8659 - val_accuracy: 0.6839\n",
      "Epoch 9/200\n",
      "80/80 [==============================] - 8s 96ms/step - loss: 0.7459 - accuracy: 0.6566 - val_loss: 0.8647 - val_accuracy: 0.6119\n",
      "Epoch 10/200\n",
      "80/80 [==============================] - 8s 95ms/step - loss: 0.6923 - accuracy: 0.6861 - val_loss: 0.8227 - val_accuracy: 0.6119\n",
      "Epoch 11/200\n",
      "80/80 [==============================] - 8s 97ms/step - loss: 0.6562 - accuracy: 0.7138 - val_loss: 0.6207 - val_accuracy: 0.7418\n",
      "Epoch 12/200\n",
      "80/80 [==============================] - 8s 96ms/step - loss: 0.5803 - accuracy: 0.7578 - val_loss: 0.5722 - val_accuracy: 0.7574\n",
      "Epoch 13/200\n",
      "80/80 [==============================] - 8s 95ms/step - loss: 0.5481 - accuracy: 0.7669 - val_loss: 0.5964 - val_accuracy: 0.7559\n",
      "Epoch 14/200\n",
      "80/80 [==============================] - 8s 95ms/step - loss: 0.4893 - accuracy: 0.8019 - val_loss: 0.4642 - val_accuracy: 0.8169\n",
      "Epoch 15/200\n",
      "80/80 [==============================] - 8s 95ms/step - loss: 0.4557 - accuracy: 0.8150 - val_loss: 0.4572 - val_accuracy: 0.8200\n",
      "Epoch 16/200\n",
      "80/80 [==============================] - 8s 96ms/step - loss: 0.4287 - accuracy: 0.8295 - val_loss: 0.3923 - val_accuracy: 0.8545\n",
      "Epoch 17/200\n",
      "80/80 [==============================] - 8s 96ms/step - loss: 0.3715 - accuracy: 0.8552 - val_loss: 0.3324 - val_accuracy: 0.9061\n",
      "Epoch 18/200\n",
      "80/80 [==============================] - 8s 95ms/step - loss: 0.3264 - accuracy: 0.8791 - val_loss: 0.3788 - val_accuracy: 0.8404\n",
      "Epoch 19/200\n",
      "80/80 [==============================] - 8s 95ms/step - loss: 0.3002 - accuracy: 0.8906 - val_loss: 0.2725 - val_accuracy: 0.9124\n",
      "Epoch 20/200\n",
      "80/80 [==============================] - 8s 96ms/step - loss: 0.2589 - accuracy: 0.9099 - val_loss: 0.2300 - val_accuracy: 0.9264\n",
      "Epoch 21/200\n",
      "80/80 [==============================] - 8s 96ms/step - loss: 0.2365 - accuracy: 0.9191 - val_loss: 0.2288 - val_accuracy: 0.9218\n",
      "Epoch 22/200\n",
      "80/80 [==============================] - 8s 95ms/step - loss: 0.2090 - accuracy: 0.9305 - val_loss: 0.2337 - val_accuracy: 0.9139\n",
      "Epoch 23/200\n",
      "80/80 [==============================] - 8s 96ms/step - loss: 0.1843 - accuracy: 0.9400 - val_loss: 0.1726 - val_accuracy: 0.9577\n",
      "Epoch 24/200\n",
      "80/80 [==============================] - 8s 96ms/step - loss: 0.1657 - accuracy: 0.9443 - val_loss: 0.1405 - val_accuracy: 0.9593\n",
      "Epoch 25/200\n",
      "80/80 [==============================] - 8s 95ms/step - loss: 0.1375 - accuracy: 0.9584 - val_loss: 0.1175 - val_accuracy: 0.9781\n",
      "Epoch 26/200\n",
      "80/80 [==============================] - 8s 96ms/step - loss: 0.1292 - accuracy: 0.9601 - val_loss: 0.1363 - val_accuracy: 0.9531\n",
      "Epoch 27/200\n",
      "80/80 [==============================] - 8s 96ms/step - loss: 0.1107 - accuracy: 0.9689 - val_loss: 0.1063 - val_accuracy: 0.9734\n",
      "Epoch 28/200\n",
      "80/80 [==============================] - 8s 96ms/step - loss: 0.0967 - accuracy: 0.9723 - val_loss: 0.0905 - val_accuracy: 0.9734\n",
      "Epoch 29/200\n",
      "80/80 [==============================] - 8s 96ms/step - loss: 0.0854 - accuracy: 0.9738 - val_loss: 0.0795 - val_accuracy: 0.9812\n",
      "Epoch 30/200\n",
      "80/80 [==============================] - 8s 96ms/step - loss: 0.0907 - accuracy: 0.9717 - val_loss: 0.0881 - val_accuracy: 0.9797\n",
      "Epoch 31/200\n",
      "80/80 [==============================] - 8s 96ms/step - loss: 0.0766 - accuracy: 0.9785 - val_loss: 0.0939 - val_accuracy: 0.9765\n",
      "Epoch 32/200\n",
      "80/80 [==============================] - 8s 96ms/step - loss: 0.0640 - accuracy: 0.9844 - val_loss: 0.0562 - val_accuracy: 0.9875\n",
      "Epoch 33/200\n",
      "80/80 [==============================] - 8s 95ms/step - loss: 0.0650 - accuracy: 0.9814 - val_loss: 0.0543 - val_accuracy: 0.9875\n",
      "Epoch 34/200\n",
      "80/80 [==============================] - 8s 96ms/step - loss: 0.0600 - accuracy: 0.9836 - val_loss: 0.0484 - val_accuracy: 0.9875\n",
      "Epoch 35/200\n",
      "80/80 [==============================] - 8s 95ms/step - loss: 0.0606 - accuracy: 0.9807 - val_loss: 0.1089 - val_accuracy: 0.9703\n",
      "Epoch 36/200\n",
      "80/80 [==============================] - 8s 96ms/step - loss: 0.0496 - accuracy: 0.9865 - val_loss: 0.0510 - val_accuracy: 0.9890\n",
      "Epoch 37/200\n",
      "80/80 [==============================] - 8s 96ms/step - loss: 0.0399 - accuracy: 0.9920 - val_loss: 0.0603 - val_accuracy: 0.9890\n",
      "Epoch 38/200\n",
      "80/80 [==============================] - 8s 95ms/step - loss: 0.0417 - accuracy: 0.9893 - val_loss: 0.0411 - val_accuracy: 0.9906\n",
      "Epoch 39/200\n",
      "80/80 [==============================] - 8s 95ms/step - loss: 0.0385 - accuracy: 0.9889 - val_loss: 0.0516 - val_accuracy: 0.9828\n",
      "Epoch 40/200\n",
      "80/80 [==============================] - 8s 95ms/step - loss: 0.0328 - accuracy: 0.9930 - val_loss: 0.0549 - val_accuracy: 0.9781\n",
      "Epoch 41/200\n",
      "80/80 [==============================] - 8s 95ms/step - loss: 0.0291 - accuracy: 0.9943 - val_loss: 0.0327 - val_accuracy: 0.9875\n",
      "Epoch 42/200\n",
      "80/80 [==============================] - 8s 96ms/step - loss: 0.0294 - accuracy: 0.9932 - val_loss: 0.0424 - val_accuracy: 0.9875\n",
      "Epoch 43/200\n",
      "80/80 [==============================] - 8s 96ms/step - loss: 0.0329 - accuracy: 0.9908 - val_loss: 0.0365 - val_accuracy: 0.9875\n",
      "Epoch 44/200\n",
      "80/80 [==============================] - 8s 96ms/step - loss: 0.0275 - accuracy: 0.9932 - val_loss: 0.0415 - val_accuracy: 0.9875\n",
      "Epoch 45/200\n",
      "80/80 [==============================] - 8s 95ms/step - loss: 0.0326 - accuracy: 0.9918 - val_loss: 0.0456 - val_accuracy: 0.9828\n",
      "Epoch 46/200\n",
      "80/80 [==============================] - 8s 95ms/step - loss: 0.0219 - accuracy: 0.9951 - val_loss: 0.0342 - val_accuracy: 0.9890\n",
      "Epoch 47/200\n",
      "80/80 [==============================] - 8s 96ms/step - loss: 0.0214 - accuracy: 0.9955 - val_loss: 0.0298 - val_accuracy: 0.9922\n",
      "Epoch 48/200\n",
      "80/80 [==============================] - 8s 96ms/step - loss: 0.0221 - accuracy: 0.9947 - val_loss: 0.0228 - val_accuracy: 0.9937\n",
      "Epoch 49/200\n",
      "80/80 [==============================] - 8s 96ms/step - loss: 0.0232 - accuracy: 0.9928 - val_loss: 0.0260 - val_accuracy: 0.9890\n",
      "Epoch 50/200\n",
      "80/80 [==============================] - 8s 96ms/step - loss: 0.0226 - accuracy: 0.9947 - val_loss: 0.0158 - val_accuracy: 0.9969\n",
      "Epoch 51/200\n",
      "80/80 [==============================] - 8s 96ms/step - loss: 0.0143 - accuracy: 0.9977 - val_loss: 0.0226 - val_accuracy: 0.9937\n",
      "Epoch 52/200\n",
      "80/80 [==============================] - 8s 96ms/step - loss: 0.0207 - accuracy: 0.9957 - val_loss: 0.0510 - val_accuracy: 0.9828\n",
      "Epoch 53/200\n",
      "80/80 [==============================] - 8s 95ms/step - loss: 0.0205 - accuracy: 0.9943 - val_loss: 0.0549 - val_accuracy: 0.9828\n",
      "Epoch 54/200\n",
      "80/80 [==============================] - 8s 96ms/step - loss: 0.0185 - accuracy: 0.9961 - val_loss: 0.0466 - val_accuracy: 0.9875\n",
      "Epoch 55/200\n",
      "80/80 [==============================] - 8s 96ms/step - loss: 0.0185 - accuracy: 0.9945 - val_loss: 0.0219 - val_accuracy: 0.9922\n",
      "Epoch 56/200\n",
      "80/80 [==============================] - 8s 96ms/step - loss: 0.0177 - accuracy: 0.9953 - val_loss: 0.0215 - val_accuracy: 0.9906\n",
      "Epoch 57/200\n",
      "80/80 [==============================] - 8s 96ms/step - loss: 0.0177 - accuracy: 0.9937 - val_loss: 0.0281 - val_accuracy: 0.9937\n",
      "Epoch 58/200\n",
      "80/80 [==============================] - 8s 95ms/step - loss: 0.0108 - accuracy: 0.9980 - val_loss: 0.0213 - val_accuracy: 0.9922\n",
      "Epoch 59/200\n",
      "80/80 [==============================] - 8s 96ms/step - loss: 0.0157 - accuracy: 0.9957 - val_loss: 0.0180 - val_accuracy: 0.9953\n",
      "Epoch 60/200\n",
      "80/80 [==============================] - 8s 96ms/step - loss: 0.0144 - accuracy: 0.9959 - val_loss: 0.0209 - val_accuracy: 0.9890\n",
      "Epoch 61/200\n",
      "80/80 [==============================] - 8s 95ms/step - loss: 0.0108 - accuracy: 0.9979 - val_loss: 0.0180 - val_accuracy: 0.9969\n",
      "Epoch 62/200\n",
      "80/80 [==============================] - 8s 96ms/step - loss: 0.0089 - accuracy: 0.9986 - val_loss: 0.0257 - val_accuracy: 0.9890\n",
      "Epoch 63/200\n",
      "80/80 [==============================] - 8s 95ms/step - loss: 0.0104 - accuracy: 0.9975 - val_loss: 0.0126 - val_accuracy: 0.9969\n",
      "Epoch 64/200\n",
      "80/80 [==============================] - 8s 96ms/step - loss: 0.0134 - accuracy: 0.9969 - val_loss: 0.0293 - val_accuracy: 0.9953\n",
      "Epoch 65/200\n",
      "80/80 [==============================] - 8s 95ms/step - loss: 0.0086 - accuracy: 0.9984 - val_loss: 0.0287 - val_accuracy: 0.9875\n",
      "Epoch 66/200\n",
      "80/80 [==============================] - 8s 96ms/step - loss: 0.0118 - accuracy: 0.9967 - val_loss: 0.0258 - val_accuracy: 0.9890\n",
      "Epoch 67/200\n",
      "80/80 [==============================] - 8s 95ms/step - loss: 0.0152 - accuracy: 0.9959 - val_loss: 0.0115 - val_accuracy: 0.9953\n",
      "Epoch 68/200\n",
      "80/80 [==============================] - 8s 95ms/step - loss: 0.0075 - accuracy: 0.9990 - val_loss: 0.0508 - val_accuracy: 0.9859\n",
      "Epoch 69/200\n",
      "80/80 [==============================] - 8s 96ms/step - loss: 0.0304 - accuracy: 0.9883 - val_loss: 0.0184 - val_accuracy: 0.9953\n",
      "Epoch 70/200\n",
      "80/80 [==============================] - 8s 96ms/step - loss: 0.0127 - accuracy: 0.9969 - val_loss: 0.0197 - val_accuracy: 0.9969\n",
      "Epoch 71/200\n",
      "80/80 [==============================] - 8s 96ms/step - loss: 0.0067 - accuracy: 0.9979 - val_loss: 0.0160 - val_accuracy: 0.9937\n",
      "Epoch 72/200\n",
      "80/80 [==============================] - 8s 96ms/step - loss: 0.0071 - accuracy: 0.9986 - val_loss: 0.0123 - val_accuracy: 0.9969\n",
      "Epoch 73/200\n",
      "80/80 [==============================] - 8s 96ms/step - loss: 0.0074 - accuracy: 0.9980 - val_loss: 0.0231 - val_accuracy: 0.9922\n",
      "Epoch 74/200\n",
      "80/80 [==============================] - 8s 96ms/step - loss: 0.0067 - accuracy: 0.9984 - val_loss: 0.0116 - val_accuracy: 0.9953\n",
      "Epoch 75/200\n",
      "80/80 [==============================] - 8s 96ms/step - loss: 0.0049 - accuracy: 0.9994 - val_loss: 0.0309 - val_accuracy: 0.9890\n",
      "Epoch 76/200\n",
      "80/80 [==============================] - 8s 96ms/step - loss: 0.0055 - accuracy: 0.9982 - val_loss: 0.0133 - val_accuracy: 0.9937\n",
      "Epoch 77/200\n",
      "80/80 [==============================] - 8s 96ms/step - loss: 0.0039 - accuracy: 0.9992 - val_loss: 0.0143 - val_accuracy: 0.9953\n",
      "Epoch 78/200\n",
      "80/80 [==============================] - 8s 96ms/step - loss: 0.0060 - accuracy: 0.9986 - val_loss: 0.0209 - val_accuracy: 0.9906\n",
      "Epoch 79/200\n",
      "80/80 [==============================] - 8s 95ms/step - loss: 0.0064 - accuracy: 0.9979 - val_loss: 0.0148 - val_accuracy: 0.9969\n",
      "Epoch 80/200\n",
      "80/80 [==============================] - 8s 96ms/step - loss: 0.0050 - accuracy: 0.9990 - val_loss: 0.0116 - val_accuracy: 0.9969\n",
      "Epoch 81/200\n",
      "80/80 [==============================] - 8s 96ms/step - loss: 0.0078 - accuracy: 0.9977 - val_loss: 0.0164 - val_accuracy: 0.9922\n",
      "Epoch 82/200\n",
      "80/80 [==============================] - 8s 96ms/step - loss: 0.0060 - accuracy: 0.9988 - val_loss: 0.0146 - val_accuracy: 0.9937\n",
      "Epoch 83/200\n",
      "80/80 [==============================] - 8s 96ms/step - loss: 0.0084 - accuracy: 0.9975 - val_loss: 0.0150 - val_accuracy: 0.9906\n",
      "Epoch 84/200\n",
      "80/80 [==============================] - 8s 96ms/step - loss: 0.0043 - accuracy: 0.9986 - val_loss: 0.0198 - val_accuracy: 0.9953\n",
      "Epoch 85/200\n",
      "80/80 [==============================] - 8s 96ms/step - loss: 0.0080 - accuracy: 0.9971 - val_loss: 0.0174 - val_accuracy: 0.9937\n",
      "Epoch 86/200\n",
      "80/80 [==============================] - 8s 96ms/step - loss: 0.0052 - accuracy: 0.9988 - val_loss: 0.0076 - val_accuracy: 0.9984\n",
      "Epoch 87/200\n",
      "80/80 [==============================] - 8s 96ms/step - loss: 0.0078 - accuracy: 0.9979 - val_loss: 0.0094 - val_accuracy: 0.9984\n",
      "Epoch 88/200\n",
      "80/80 [==============================] - 8s 96ms/step - loss: 0.0071 - accuracy: 0.9980 - val_loss: 0.0124 - val_accuracy: 0.9969\n",
      "Epoch 89/200\n",
      "80/80 [==============================] - 8s 96ms/step - loss: 0.0149 - accuracy: 0.9957 - val_loss: 0.0350 - val_accuracy: 0.9906\n",
      "Epoch 90/200\n",
      "80/80 [==============================] - 8s 95ms/step - loss: 0.0074 - accuracy: 0.9977 - val_loss: 0.0122 - val_accuracy: 0.9953\n",
      "Epoch 91/200\n",
      "80/80 [==============================] - 8s 96ms/step - loss: 0.0082 - accuracy: 0.9975 - val_loss: 0.0228 - val_accuracy: 0.9922\n",
      "Epoch 92/200\n",
      "80/80 [==============================] - 8s 96ms/step - loss: 0.0106 - accuracy: 0.9959 - val_loss: 0.0123 - val_accuracy: 0.9969\n",
      "Epoch 93/200\n",
      "80/80 [==============================] - 8s 96ms/step - loss: 0.0061 - accuracy: 0.9982 - val_loss: 0.0216 - val_accuracy: 0.9906\n",
      "Epoch 94/200\n",
      "80/80 [==============================] - 8s 96ms/step - loss: 0.0067 - accuracy: 0.9986 - val_loss: 0.0156 - val_accuracy: 0.9953\n",
      "Epoch 95/200\n",
      "80/80 [==============================] - 8s 96ms/step - loss: 0.0043 - accuracy: 0.9992 - val_loss: 0.0173 - val_accuracy: 0.9937\n",
      "Epoch 96/200\n",
      "80/80 [==============================] - 8s 96ms/step - loss: 0.0087 - accuracy: 0.9977 - val_loss: 0.0418 - val_accuracy: 0.9828\n",
      "Epoch 97/200\n",
      "80/80 [==============================] - 8s 96ms/step - loss: 0.0057 - accuracy: 0.9982 - val_loss: 0.0147 - val_accuracy: 0.9953\n",
      "Epoch 98/200\n",
      "80/80 [==============================] - 8s 96ms/step - loss: 0.0090 - accuracy: 0.9969 - val_loss: 0.0676 - val_accuracy: 0.9781\n",
      "Epoch 99/200\n",
      "80/80 [==============================] - 8s 96ms/step - loss: 0.0095 - accuracy: 0.9967 - val_loss: 0.0147 - val_accuracy: 0.9922\n",
      "Epoch 100/200\n",
      "80/80 [==============================] - 8s 96ms/step - loss: 0.0076 - accuracy: 0.9980 - val_loss: 0.0254 - val_accuracy: 0.9859\n",
      "Epoch 101/200\n",
      "80/80 [==============================] - 8s 96ms/step - loss: 0.0087 - accuracy: 0.9969 - val_loss: 0.0171 - val_accuracy: 0.9906\n",
      "Epoch 102/200\n",
      "80/80 [==============================] - 8s 96ms/step - loss: 0.0072 - accuracy: 0.9979 - val_loss: 0.0226 - val_accuracy: 0.9890\n",
      "Epoch 103/200\n",
      "80/80 [==============================] - 8s 96ms/step - loss: 0.0050 - accuracy: 0.9988 - val_loss: 0.0106 - val_accuracy: 0.9969\n",
      "Epoch 104/200\n",
      "80/80 [==============================] - 8s 96ms/step - loss: 0.0085 - accuracy: 0.9971 - val_loss: 0.0128 - val_accuracy: 0.9984\n",
      "Epoch 105/200\n",
      "80/80 [==============================] - 8s 96ms/step - loss: 0.0058 - accuracy: 0.9982 - val_loss: 0.0194 - val_accuracy: 0.9922\n",
      "Epoch 106/200\n",
      "80/80 [==============================] - 8s 96ms/step - loss: 0.0031 - accuracy: 0.9992 - val_loss: 0.0426 - val_accuracy: 0.9828\n",
      "Epoch 107/200\n",
      "80/80 [==============================] - 8s 96ms/step - loss: 0.0062 - accuracy: 0.9980 - val_loss: 0.0114 - val_accuracy: 0.9953\n",
      "Epoch 108/200\n",
      "80/80 [==============================] - 8s 96ms/step - loss: 0.0038 - accuracy: 0.9990 - val_loss: 0.0193 - val_accuracy: 0.9906\n",
      "Epoch 109/200\n",
      "80/80 [==============================] - 8s 96ms/step - loss: 0.0034 - accuracy: 0.9992 - val_loss: 0.0196 - val_accuracy: 0.9906\n",
      "Epoch 110/200\n",
      "80/80 [==============================] - 8s 96ms/step - loss: 0.0023 - accuracy: 0.9996 - val_loss: 0.0097 - val_accuracy: 0.9953\n",
      "Epoch 111/200\n",
      "80/80 [==============================] - 8s 96ms/step - loss: 0.0014 - accuracy: 0.9998 - val_loss: 0.0122 - val_accuracy: 0.9969\n",
      "Epoch 112/200\n",
      "80/80 [==============================] - 8s 96ms/step - loss: 0.0025 - accuracy: 0.9992 - val_loss: 0.0098 - val_accuracy: 0.9984\n",
      "Epoch 113/200\n",
      "80/80 [==============================] - 8s 96ms/step - loss: 0.0022 - accuracy: 0.9996 - val_loss: 0.0043 - val_accuracy: 0.9969\n",
      "Epoch 114/200\n",
      "80/80 [==============================] - 8s 96ms/step - loss: 0.0072 - accuracy: 0.9971 - val_loss: 0.0269 - val_accuracy: 0.9890\n",
      "Epoch 115/200\n",
      "80/80 [==============================] - 8s 96ms/step - loss: 0.0150 - accuracy: 0.9947 - val_loss: 0.0426 - val_accuracy: 0.9844\n",
      "Epoch 116/200\n",
      "80/80 [==============================] - 8s 96ms/step - loss: 0.0074 - accuracy: 0.9977 - val_loss: 0.0170 - val_accuracy: 0.9953\n",
      "Epoch 117/200\n",
      "80/80 [==============================] - 8s 96ms/step - loss: 0.0021 - accuracy: 0.9992 - val_loss: 0.0157 - val_accuracy: 0.9937\n",
      "Epoch 118/200\n",
      "80/80 [==============================] - 8s 96ms/step - loss: 0.0051 - accuracy: 0.9990 - val_loss: 0.0131 - val_accuracy: 0.9953\n",
      "Epoch 119/200\n",
      "80/80 [==============================] - 8s 96ms/step - loss: 0.0046 - accuracy: 0.9984 - val_loss: 0.0209 - val_accuracy: 0.9937\n",
      "Epoch 120/200\n",
      "80/80 [==============================] - 8s 97ms/step - loss: 0.0017 - accuracy: 0.9998 - val_loss: 0.0187 - val_accuracy: 0.9937\n",
      "Epoch 121/200\n",
      "80/80 [==============================] - 8s 97ms/step - loss: 0.0026 - accuracy: 0.9992 - val_loss: 0.0124 - val_accuracy: 0.9953\n",
      "Epoch 122/200\n",
      "80/80 [==============================] - 8s 96ms/step - loss: 0.0032 - accuracy: 0.9994 - val_loss: 0.0202 - val_accuracy: 0.9937\n",
      "Epoch 123/200\n",
      "80/80 [==============================] - 8s 96ms/step - loss: 0.0077 - accuracy: 0.9975 - val_loss: 0.0234 - val_accuracy: 0.9937\n",
      "Epoch 124/200\n",
      "80/80 [==============================] - 8s 97ms/step - loss: 0.0058 - accuracy: 0.9980 - val_loss: 0.0311 - val_accuracy: 0.9890\n",
      "Epoch 125/200\n",
      "80/80 [==============================] - 8s 96ms/step - loss: 0.0039 - accuracy: 0.9992 - val_loss: 0.0083 - val_accuracy: 0.9969\n",
      "Epoch 126/200\n",
      "80/80 [==============================] - 8s 97ms/step - loss: 0.0064 - accuracy: 0.9984 - val_loss: 0.0146 - val_accuracy: 0.9969\n",
      "Epoch 127/200\n",
      "80/80 [==============================] - 8s 96ms/step - loss: 0.0091 - accuracy: 0.9967 - val_loss: 0.0789 - val_accuracy: 0.9781\n",
      "Epoch 128/200\n",
      "80/80 [==============================] - 8s 96ms/step - loss: 0.0052 - accuracy: 0.9986 - val_loss: 0.0113 - val_accuracy: 0.9984\n",
      "Epoch 129/200\n",
      "80/80 [==============================] - 8s 96ms/step - loss: 0.0073 - accuracy: 0.9973 - val_loss: 0.0051 - val_accuracy: 0.9984\n",
      "Epoch 130/200\n",
      "80/80 [==============================] - 8s 96ms/step - loss: 0.0061 - accuracy: 0.9979 - val_loss: 0.0118 - val_accuracy: 0.9953\n",
      "Epoch 131/200\n",
      "80/80 [==============================] - 8s 96ms/step - loss: 0.0105 - accuracy: 0.9961 - val_loss: 0.0289 - val_accuracy: 0.9922\n",
      "Epoch 132/200\n",
      "80/80 [==============================] - 8s 96ms/step - loss: 0.0123 - accuracy: 0.9963 - val_loss: 0.0173 - val_accuracy: 0.9937\n",
      "Epoch 133/200\n",
      "80/80 [==============================] - 8s 96ms/step - loss: 0.0041 - accuracy: 0.9986 - val_loss: 0.0180 - val_accuracy: 0.9953\n",
      "Epoch 134/200\n",
      "80/80 [==============================] - 8s 96ms/step - loss: 0.0052 - accuracy: 0.9977 - val_loss: 0.0189 - val_accuracy: 0.9906\n",
      "Epoch 135/200\n",
      "80/80 [==============================] - 8s 96ms/step - loss: 0.0088 - accuracy: 0.9969 - val_loss: 0.0179 - val_accuracy: 0.9937\n",
      "Epoch 136/200\n",
      "80/80 [==============================] - 8s 96ms/step - loss: 0.0031 - accuracy: 0.9990 - val_loss: 0.0210 - val_accuracy: 0.9922\n",
      "Epoch 137/200\n",
      "80/80 [==============================] - 8s 96ms/step - loss: 9.8092e-04 - accuracy: 0.9998 - val_loss: 0.0178 - val_accuracy: 0.9953\n",
      "Epoch 138/200\n",
      "80/80 [==============================] - 8s 96ms/step - loss: 0.0049 - accuracy: 0.9980 - val_loss: 0.0373 - val_accuracy: 0.9890\n",
      "Epoch 139/200\n",
      "80/80 [==============================] - 8s 96ms/step - loss: 0.0025 - accuracy: 0.9994 - val_loss: 0.0329 - val_accuracy: 0.9875\n",
      "Epoch 140/200\n",
      "80/80 [==============================] - 8s 96ms/step - loss: 0.0019 - accuracy: 0.9996 - val_loss: 0.0073 - val_accuracy: 0.9969\n",
      "Epoch 141/200\n",
      "80/80 [==============================] - 8s 96ms/step - loss: 0.0033 - accuracy: 0.9984 - val_loss: 0.0103 - val_accuracy: 0.9969\n",
      "Epoch 142/200\n",
      "80/80 [==============================] - 8s 96ms/step - loss: 0.0042 - accuracy: 0.9986 - val_loss: 0.0071 - val_accuracy: 0.9953\n",
      "Epoch 143/200\n",
      "80/80 [==============================] - 8s 96ms/step - loss: 0.0031 - accuracy: 0.9990 - val_loss: 0.0074 - val_accuracy: 0.9937\n",
      "Epoch 144/200\n",
      "80/80 [==============================] - 8s 96ms/step - loss: 0.0043 - accuracy: 0.9979 - val_loss: 0.0372 - val_accuracy: 0.9906\n",
      "Epoch 145/200\n",
      "80/80 [==============================] - 8s 96ms/step - loss: 0.0022 - accuracy: 0.9994 - val_loss: 0.0113 - val_accuracy: 0.9969\n",
      "Epoch 146/200\n",
      "80/80 [==============================] - 8s 96ms/step - loss: 0.0058 - accuracy: 0.9982 - val_loss: 0.0565 - val_accuracy: 0.9828\n",
      "Epoch 147/200\n",
      "80/80 [==============================] - 8s 96ms/step - loss: 0.0044 - accuracy: 0.9988 - val_loss: 0.0170 - val_accuracy: 0.9937\n",
      "Epoch 148/200\n",
      "80/80 [==============================] - 8s 96ms/step - loss: 0.0022 - accuracy: 0.9988 - val_loss: 0.0139 - val_accuracy: 0.9953\n",
      "Epoch 149/200\n",
      "80/80 [==============================] - 8s 96ms/step - loss: 0.0017 - accuracy: 0.9998 - val_loss: 0.0097 - val_accuracy: 0.9969\n",
      "Epoch 150/200\n",
      "80/80 [==============================] - 8s 95ms/step - loss: 0.0018 - accuracy: 0.9996 - val_loss: 0.0127 - val_accuracy: 0.9953\n",
      "Epoch 151/200\n",
      "80/80 [==============================] - 8s 96ms/step - loss: 0.0017 - accuracy: 0.9994 - val_loss: 0.0458 - val_accuracy: 0.9890\n",
      "Epoch 152/200\n",
      "80/80 [==============================] - 8s 96ms/step - loss: 0.0014 - accuracy: 0.9998 - val_loss: 0.0267 - val_accuracy: 0.9906\n",
      "Epoch 153/200\n",
      "80/80 [==============================] - 8s 96ms/step - loss: 0.0028 - accuracy: 0.9990 - val_loss: 0.0324 - val_accuracy: 0.9937\n",
      "Epoch 154/200\n",
      "80/80 [==============================] - 8s 97ms/step - loss: 0.0039 - accuracy: 0.9990 - val_loss: 0.0114 - val_accuracy: 0.9953\n",
      "Epoch 155/200\n",
      "80/80 [==============================] - 8s 96ms/step - loss: 0.0070 - accuracy: 0.9979 - val_loss: 0.0522 - val_accuracy: 0.9828\n",
      "Epoch 156/200\n",
      "80/80 [==============================] - 8s 97ms/step - loss: 0.0088 - accuracy: 0.9973 - val_loss: 0.1061 - val_accuracy: 0.9750\n",
      "Epoch 157/200\n",
      "80/80 [==============================] - 8s 96ms/step - loss: 0.0057 - accuracy: 0.9980 - val_loss: 0.0144 - val_accuracy: 0.9969\n",
      "Epoch 158/200\n",
      "80/80 [==============================] - 8s 96ms/step - loss: 0.0038 - accuracy: 0.9990 - val_loss: 0.0102 - val_accuracy: 0.9953\n",
      "Epoch 159/200\n",
      "80/80 [==============================] - 8s 97ms/step - loss: 0.0032 - accuracy: 0.9988 - val_loss: 0.0019 - val_accuracy: 1.0000\n",
      "Epoch 160/200\n",
      "80/80 [==============================] - 8s 97ms/step - loss: 0.0098 - accuracy: 0.9963 - val_loss: 0.0150 - val_accuracy: 0.9906\n",
      "Epoch 161/200\n",
      "80/80 [==============================] - 8s 97ms/step - loss: 0.0025 - accuracy: 0.9998 - val_loss: 0.0125 - val_accuracy: 0.9969\n",
      "Epoch 162/200\n",
      "80/80 [==============================] - 8s 96ms/step - loss: 0.0026 - accuracy: 0.9992 - val_loss: 0.0191 - val_accuracy: 0.9937\n",
      "Epoch 163/200\n",
      "80/80 [==============================] - 8s 96ms/step - loss: 0.0017 - accuracy: 0.9998 - val_loss: 0.0122 - val_accuracy: 0.9953\n",
      "Epoch 164/200\n",
      "80/80 [==============================] - 8s 96ms/step - loss: 8.2756e-04 - accuracy: 1.0000 - val_loss: 0.0233 - val_accuracy: 0.9922\n",
      "Epoch 165/200\n",
      "80/80 [==============================] - 8s 96ms/step - loss: 7.9325e-04 - accuracy: 1.0000 - val_loss: 0.0221 - val_accuracy: 0.9937\n",
      "Epoch 166/200\n",
      "80/80 [==============================] - 8s 98ms/step - loss: 0.0032 - accuracy: 0.9990 - val_loss: 0.0205 - val_accuracy: 0.9953\n",
      "Epoch 167/200\n",
      "80/80 [==============================] - 8s 96ms/step - loss: 0.0056 - accuracy: 0.9984 - val_loss: 0.0144 - val_accuracy: 0.9969\n",
      "Epoch 168/200\n",
      "80/80 [==============================] - 8s 97ms/step - loss: 0.0190 - accuracy: 0.9928 - val_loss: 0.0117 - val_accuracy: 0.9937\n",
      "Epoch 169/200\n",
      "80/80 [==============================] - 8s 97ms/step - loss: 0.0112 - accuracy: 0.9955 - val_loss: 0.0277 - val_accuracy: 0.9937\n",
      "Epoch 170/200\n",
      "80/80 [==============================] - 8s 97ms/step - loss: 0.0090 - accuracy: 0.9963 - val_loss: 0.0360 - val_accuracy: 0.9937\n",
      "Epoch 171/200\n",
      "80/80 [==============================] - 8s 97ms/step - loss: 0.0038 - accuracy: 0.9988 - val_loss: 0.0137 - val_accuracy: 0.9969\n",
      "Epoch 172/200\n",
      "80/80 [==============================] - 8s 97ms/step - loss: 0.0060 - accuracy: 0.9979 - val_loss: 0.0211 - val_accuracy: 0.9937\n",
      "Epoch 173/200\n",
      "80/80 [==============================] - 8s 96ms/step - loss: 0.0025 - accuracy: 0.9994 - val_loss: 0.0203 - val_accuracy: 0.9937\n",
      "Epoch 174/200\n",
      "80/80 [==============================] - 8s 96ms/step - loss: 0.0012 - accuracy: 0.9998 - val_loss: 0.0112 - val_accuracy: 0.9937\n",
      "Epoch 175/200\n",
      "80/80 [==============================] - 8s 96ms/step - loss: 0.0024 - accuracy: 0.9992 - val_loss: 0.0422 - val_accuracy: 0.9906\n",
      "Epoch 176/200\n",
      "80/80 [==============================] - 8s 96ms/step - loss: 9.6802e-04 - accuracy: 0.9998 - val_loss: 0.0172 - val_accuracy: 0.9906\n",
      "Epoch 177/200\n",
      "80/80 [==============================] - 8s 96ms/step - loss: 5.1803e-04 - accuracy: 1.0000 - val_loss: 0.0097 - val_accuracy: 0.9969\n",
      "Epoch 178/200\n",
      "80/80 [==============================] - 8s 96ms/step - loss: 0.0027 - accuracy: 0.9986 - val_loss: 0.0326 - val_accuracy: 0.9890\n",
      "Epoch 179/200\n",
      "80/80 [==============================] - 8s 96ms/step - loss: 0.0045 - accuracy: 0.9984 - val_loss: 0.0540 - val_accuracy: 0.9812\n",
      "Epoch 180/200\n",
      "80/80 [==============================] - 8s 96ms/step - loss: 0.0061 - accuracy: 0.9977 - val_loss: 0.0286 - val_accuracy: 0.9922\n",
      "Epoch 181/200\n",
      "80/80 [==============================] - 8s 96ms/step - loss: 0.0019 - accuracy: 0.9996 - val_loss: 0.0157 - val_accuracy: 0.9953\n",
      "Epoch 182/200\n",
      "80/80 [==============================] - 8s 96ms/step - loss: 0.0060 - accuracy: 0.9982 - val_loss: 0.0884 - val_accuracy: 0.9812\n",
      "Epoch 183/200\n",
      "80/80 [==============================] - 8s 96ms/step - loss: 0.0033 - accuracy: 0.9990 - val_loss: 0.0116 - val_accuracy: 0.9937\n",
      "Epoch 184/200\n",
      "80/80 [==============================] - 8s 96ms/step - loss: 0.0014 - accuracy: 0.9994 - val_loss: 0.0205 - val_accuracy: 0.9922\n",
      "Epoch 185/200\n",
      "80/80 [==============================] - 8s 97ms/step - loss: 0.0020 - accuracy: 0.9992 - val_loss: 0.0528 - val_accuracy: 0.9875\n",
      "Epoch 186/200\n",
      "80/80 [==============================] - 8s 96ms/step - loss: 0.0018 - accuracy: 0.9994 - val_loss: 0.0460 - val_accuracy: 0.9890\n",
      "Epoch 187/200\n",
      "80/80 [==============================] - 8s 96ms/step - loss: 0.0025 - accuracy: 0.9992 - val_loss: 0.0222 - val_accuracy: 0.9937\n",
      "Epoch 188/200\n",
      "80/80 [==============================] - 8s 96ms/step - loss: 0.0023 - accuracy: 0.9992 - val_loss: 0.0100 - val_accuracy: 0.9953\n",
      "Epoch 189/200\n",
      "80/80 [==============================] - 8s 97ms/step - loss: 8.9652e-04 - accuracy: 0.9996 - val_loss: 0.0218 - val_accuracy: 0.9922\n",
      "Epoch 190/200\n",
      "80/80 [==============================] - 8s 96ms/step - loss: 3.6542e-04 - accuracy: 1.0000 - val_loss: 0.0235 - val_accuracy: 0.9937\n",
      "Epoch 191/200\n",
      "80/80 [==============================] - 8s 96ms/step - loss: 9.0237e-04 - accuracy: 0.9996 - val_loss: 0.0197 - val_accuracy: 0.9953\n",
      "Epoch 192/200\n",
      "80/80 [==============================] - 8s 96ms/step - loss: 0.0028 - accuracy: 0.9986 - val_loss: 0.0067 - val_accuracy: 0.9969\n",
      "Epoch 193/200\n",
      "80/80 [==============================] - 8s 96ms/step - loss: 0.0012 - accuracy: 0.9998 - val_loss: 0.0125 - val_accuracy: 0.9953\n",
      "Epoch 194/200\n",
      "80/80 [==============================] - 8s 97ms/step - loss: 0.0027 - accuracy: 0.9992 - val_loss: 0.0173 - val_accuracy: 0.9937\n",
      "Epoch 195/200\n",
      "80/80 [==============================] - 8s 96ms/step - loss: 0.0088 - accuracy: 0.9969 - val_loss: 0.0124 - val_accuracy: 0.9984\n",
      "Epoch 196/200\n",
      "80/80 [==============================] - 8s 96ms/step - loss: 0.0069 - accuracy: 0.9982 - val_loss: 0.0252 - val_accuracy: 0.9922\n",
      "Epoch 197/200\n",
      "80/80 [==============================] - 8s 96ms/step - loss: 0.0114 - accuracy: 0.9957 - val_loss: 0.0696 - val_accuracy: 0.9718\n",
      "Epoch 198/200\n",
      "80/80 [==============================] - 8s 97ms/step - loss: 0.0049 - accuracy: 0.9988 - val_loss: 0.0131 - val_accuracy: 0.9953\n",
      "Epoch 199/200\n",
      "80/80 [==============================] - 8s 97ms/step - loss: 0.0018 - accuracy: 0.9998 - val_loss: 0.0131 - val_accuracy: 0.9953\n",
      "Epoch 200/200\n",
      "80/80 [==============================] - 8s 97ms/step - loss: 0.0020 - accuracy: 0.9992 - val_loss: 0.0132 - val_accuracy: 0.9937\n"
     ]
    }
   ],
   "source": [
    "history = model.fit(x_train,y_train,epochs = 200,batch_size=64 , validation_data = (x_val, y_val))"
   ]
  },
  {
   "cell_type": "code",
   "execution_count": null,
   "metadata": {
    "id": "fpx751ZN7xdD"
   },
   "outputs": [],
   "source": [
    "scores = model.evaluate(x_val,y_val , verbose=0)"
   ]
  },
  {
   "cell_type": "code",
   "execution_count": null,
   "metadata": {
    "colab": {
     "base_uri": "https://localhost:8080/"
    },
    "id": "oWUrsf9N8QTc",
    "outputId": "bceadaf0-b1f9-4a8f-df39-e66ed00904d3"
   },
   "outputs": [
    {
     "name": "stdout",
     "output_type": "stream",
     "text": [
      "Accuracy:  99.37402009963989\n",
      "Loss:  0.013206219300627708\n"
     ]
    }
   ],
   "source": [
    "accuracy= scores[1]*100\n",
    "loss=scores[0]\n",
    "print('Accuracy: ', accuracy)\n",
    "print('Loss: ',  loss)"
   ]
  },
  {
   "cell_type": "code",
   "execution_count": null,
   "metadata": {
    "id": "sTSg8a-uqLQh"
   },
   "outputs": [],
   "source": [
    "model.save('model.h5')"
   ]
  },
  {
   "cell_type": "code",
   "execution_count": null,
   "metadata": {
    "colab": {
     "base_uri": "https://localhost:8080/",
     "height": 435
    },
    "id": "CVViCj8-qOb7",
    "outputId": "33dc48fb-ab85-4b94-e36d-42b17e819f90"
   },
   "outputs": [
    {
     "data": {
      "image/png": "[encoded data removed]",
      "text/plain": [
       "<Figure size 1080x1080 with 2 Axes>"
      ]
     },
     "metadata": {},
     "output_type": "display_data"
    }
   ],
   "source": [
    "acc = history.history['accuracy']\n",
    "val_acc = history.history['val_accuracy']\n",
    "loss = history.history['loss']\n",
    "val_loss = history.history['val_loss']\n",
    "\n",
    "epochs_range = range(200)\n",
    "\n",
    "plt.figure(figsize=(15, 15))\n",
    "plt.subplot(2, 2, 1)\n",
    "plt.plot(epochs_range, acc, label='Training Accuracy')\n",
    "plt.plot(epochs_range, val_acc, label='Validation Accuracy')\n",
    "plt.legend(loc='lower right')\n",
    "plt.title('Training and Validation Accuracy')\n",
    "\n",
    "plt.subplot(2, 2, 2)\n",
    "plt.plot(epochs_range, loss, label='Training Loss')\n",
    "plt.plot(epochs_range, val_loss, label='Validation Loss')\n",
    "plt.legend(loc='upper right')\n",
    "plt.title('Training and Validation Loss')\n",
    "plt.show()"
   ]
  },
  {
   "cell_type": "code",
   "execution_count": null,
   "metadata": {
    "colab": {
     "base_uri": "https://localhost:8080/",
     "height": 466
    },
    "id": "Q61-aKNojRz4",
    "outputId": "11d35634-3a4b-46d7-92ef-262c53312d81"
   },
   "outputs": [
    {
     "data": {
      "text/plain": [
       "Text(0.5, 1.0, 'Training and Validation Accuracy')"
      ]
     },
     "execution_count": 36,
     "metadata": {},
     "output_type": "execute_result"
    },
    {
     "data": {
      "image/png": "[encoded data removed]",
      "text/plain": [
       "<Figure size 1080x1080 with 1 Axes>"
      ]
     },
     "metadata": {},
     "output_type": "display_data"
    }
   ],
   "source": [
    "acc = history.history['accuracy']\n",
    "val_acc = history.history['val_accuracy']\n",
    "loss = history.history['loss']\n",
    "val_loss = history.history['val_loss']\n",
    "\n",
    "epochs_range = range(200)\n",
    "\n",
    "plt.figure(figsize=(15, 15))\n",
    "plt.subplot(2, 2, 1)\n",
    "plt.plot(epochs_range, acc, label='Training Accuracy')\n",
    "plt.plot(epochs_range, val_acc, label='Validation Accuracy')\n",
    "plt.legend(loc='lower right')\n",
    "plt.xlabel('Epochs')\n",
    "plt.ylabel('Accuracy')\n",
    "plt.grid(False)\n",
    "plt.title('Training and Validation Accuracy')"
   ]
  },
  {
   "cell_type": "code",
   "execution_count": null,
   "metadata": {
    "colab": {
     "base_uri": "https://localhost:8080/",
     "height": 449
    },
    "id": "8bq3DOl2jVk5",
    "outputId": "8ea63962-f744-47e8-e766-6334ab618e4e"
   },
   "outputs": [
    {
     "data": {
      "image/png": "[encoded data removed]",
      "text/plain": [
       "<Figure size 1080x1080 with 1 Axes>"
      ]
     },
     "metadata": {},
     "output_type": "display_data"
    }
   ],
   "source": [
    "epochs_range = range(200)\n",
    "\n",
    "plt.figure(figsize=(15, 15))\n",
    "plt.subplot(2, 2, 1)\n",
    "\n",
    "plt.plot(epochs_range, loss, label='Training Loss')\n",
    "plt.plot(epochs_range, val_loss, label='Validation Loss')\n",
    "plt.legend(loc='upper right')\n",
    "plt.title('Training and Validation Loss')\n",
    "plt.xlabel('Epochs')\n",
    "plt.ylabel('Loss')\n",
    "plt.grid(False)\n",
    "plt.show()"
   ]
  },
  {
   "cell_type": "code",
   "execution_count": null,
   "metadata": {
    "id": "Y9e-Jh5aqT8B"
   },
   "outputs": [],
   "source": [
    "model=tf.keras.models.load_model('model.h5')"
   ]
  },
  {
   "cell_type": "code",
   "execution_count": null,
   "metadata": {
    "id": "uhLyMcZVqWIh"
   },
   "outputs": [],
   "source": [
    "prediction=model.predict([x_val])"
   ]
  },
  {
   "cell_type": "code",
   "execution_count": null,
   "metadata": {
    "colab": {
     "base_uri": "https://localhost:8080/"
    },
    "id": "bEzc0vy1qYtY",
    "outputId": "f1a53e27-df2c-429b-86a2-f2cd3cfddc0a"
   },
   "outputs": [
    {
     "name": "stdout",
     "output_type": "stream",
     "text": [
      "0\n"
     ]
    }
   ],
   "source": [
    "print(np.argmax(prediction[4]))"
   ]
  },
  {
   "cell_type": "code",
   "execution_count": null,
   "metadata": {
    "colab": {
     "base_uri": "https://localhost:8080/"
    },
    "id": "KRW-WapQqcaI",
    "outputId": "c2d4cd1a-47b0-4c8d-9c68-f728362d3ef2"
   },
   "outputs": [
    {
     "name": "stdout",
     "output_type": "stream",
     "text": [
      "Found 642 images belonging to 4 classes.\n"
     ]
    }
   ],
   "source": [
    "test_data_dir= '/content/drive/MyDrive/Colab Notebooks/CSE499New/train_test_val/test'\n",
    "test_generator = ImageDataGenerator().flow_from_directory(test_data_dir\n",
    "                                                           , target_size=(128, 128)\n",
    "                                                           , batch_size=5\n",
    "                                                           , classes=labels\n",
    "                                                           , seed=0\n",
    "                                                           , shuffle=False)"
   ]
  },
  {
   "cell_type": "code",
   "execution_count": null,
   "metadata": {
    "colab": {
     "base_uri": "https://localhost:8080/"
    },
    "id": "rs57MaAgOu5S",
    "outputId": "0d96e407-e59f-4be0-980d-ae5b34eca3a8"
   },
   "outputs": [
    {
     "name": "stdout",
     "output_type": "stream",
     "text": [
      "Found 5119 images belonging to 4 classes.\n"
     ]
    }
   ],
   "source": [
    "train_data_dir='/content/drive/MyDrive/Colab Notebooks/CSE499New/train_test_val/train'\n",
    "train_generator = ImageDataGenerator().flow_from_directory(train_data_dir\n",
    "                                                           , target_size=(128, 128)\n",
    "                                                           , batch_size=10\n",
    "                                                           , classes=labels\n",
    "                                                           , seed=0\n",
    "                                                           , shuffle=True)"
   ]
  },
  {
   "cell_type": "code",
   "execution_count": null,
   "metadata": {
    "id": "TzbKgyt60Fhw"
   },
   "outputs": [],
   "source": [
    "probability_model = tf.keras.Sequential([model, \n",
    "                                         tf.keras.layers.Softmax()])"
   ]
  },
  {
   "cell_type": "code",
   "execution_count": null,
   "metadata": {
    "id": "5ky4O4__GoJR"
   },
   "outputs": [],
   "source": [
    "predictions = probability_model.predict(test_generator)"
   ]
  },
  {
   "cell_type": "code",
   "execution_count": null,
   "metadata": {
    "colab": {
     "base_uri": "https://localhost:8080/"
    },
    "id": "t1Nhc6tBGvTU",
    "outputId": "c4772be6-5478-4eff-810f-6b55a628b7b3"
   },
   "outputs": [
    {
     "data": {
      "text/plain": [
       "array([0.47536686, 0.17487772, 0.17487772, 0.17487772], dtype=float32)"
      ]
     },
     "execution_count": 28,
     "metadata": {},
     "output_type": "execute_result"
    }
   ],
   "source": [
    "predictions[39]"
   ]
  },
  {
   "cell_type": "code",
   "execution_count": null,
   "metadata": {
    "colab": {
     "base_uri": "https://localhost:8080/"
    },
    "id": "1MtknZBYG0YD",
    "outputId": "cfb63654-b02f-4a8f-866c-600471bd6edd"
   },
   "outputs": [
    {
     "data": {
      "text/plain": [
       "0"
      ]
     },
     "execution_count": 29,
     "metadata": {},
     "output_type": "execute_result"
    }
   ],
   "source": [
    "np.argmax(predictions[39])"
   ]
  },
  {
   "cell_type": "markdown",
   "metadata": {
    "id": "_1iFanjEujb-"
   },
   "source": [
    "Plot Confusion matrix"
   ]
  },
  {
   "cell_type": "code",
   "execution_count": null,
   "metadata": {
    "colab": {
     "base_uri": "https://localhost:8080/",
     "height": 507
    },
    "id": "txn-BXBAuyP8",
    "outputId": "2ccfdfaa-0e30-4b5f-f2dc-cdad29a3ef0e"
   },
   "outputs": [
    {
     "data": {
      "text/plain": [
       "(<Figure size 576x576 with 2 Axes>,\n",
       " <matplotlib.axes._subplots.AxesSubplot at 0x7f7c73328cd0>)"
      ]
     },
     "execution_count": 31,
     "metadata": {},
     "output_type": "execute_result"
    },
    {
     "data": {
      "image/png": "[encoded data removed]",
      "text/plain": [
       "<Figure size 576x576 with 2 Axes>"
      ]
     },
     "metadata": {},
     "output_type": "display_data"
    }
   ],
   "source": [
    "actual = test_generator.classes\n",
    "predict = np.argmax(model.predict(test_generator),axis =1)\n",
    "cm=confusion_matrix(actual,predict)\n",
    "plot_confusion_matrix(cm,figsize=(8,8),\n",
    "                    colorbar=True,show_normed=True,)"
   ]
  },
  {
   "cell_type": "code",
   "execution_count": null,
   "metadata": {
    "colab": {
     "base_uri": "https://localhost:8080/"
    },
    "id": "lQu5aVLtmWw3",
    "outputId": "f42fd1ef-a20f-4173-80a4-705384451ef7"
   },
   "outputs": [
    {
     "name": "stdout",
     "output_type": "stream",
     "text": [
      "              precision    recall  f1-score   support\n",
      "\n",
      "           0       1.00      0.97      0.98        91\n",
      "           1       0.88      1.00      0.93         7\n",
      "           2       0.96      0.99      0.98       320\n",
      "           3       0.99      0.95      0.97       224\n",
      "\n",
      "    accuracy                           0.98       642\n",
      "   macro avg       0.96      0.98      0.97       642\n",
      "weighted avg       0.98      0.98      0.98       642\n",
      "\n"
     ]
    }
   ],
   "source": [
    "print(classification_report(actual,predict))"
   ]
  },
  {
   "cell_type": "code",
   "execution_count": null,
   "metadata": {
    "colab": {
     "base_uri": "https://localhost:8080/"
    },
    "id": "FPYiV8IkSDgp",
    "outputId": "d1292082-b1d7-409d-8393-ca2bc7cdbcef"
   },
   "outputs": [
    {
     "name": "stdout",
     "output_type": "stream",
     "text": [
      "[0 0 0 0 0 0 0 0 0 0 0 0 0 0 0 0 0 0 0 0 0 0 0 0 0 0 0 0 0 0 0 0 0 0 0 0 0\n",
      " 0 0 0 0 0 0 0 0 0 0 0 0 0 0 0 0 0 0 0 0 0 0 0 0 0 0 0 0 0 0 0 0 0 0 0 0 0\n",
      " 0 0 0 0 0 0 0 0 0 0 0 0 0 0 0 0 0 1 1 1 1 1 1 1 2 2 2 2 2 2 2 2 2 2 2 2 2\n",
      " 2 2 2 2 2 2 2 2 2 2 2 2 2 2 2 2 2 2 2 2 2 2 2 2 2 2 2 2 2 2 2 2 2 2 2 2 2\n",
      " 2 2 2 2 2 2 2 2 2 2 2 2 2 2 2 2 2 2 2 2 2 2 2 2 2 2 2 2 2 2 2 2 2 2 2 2 2\n",
      " 2 2 2 2 2 2 2 2 2 2 2 2 2 2 2 2 2 2 2 2 2 2 2 2 2 2 2 2 2 2 2 2 2 2 2 2 2\n",
      " 2 2 2 2 2 2 2 2 2 2 2 2 2 2 2 2 2 2 2 2 2 2 2 2 2 2 2 2 2 2 2 2 2 2 2 2 2\n",
      " 2 2 2 2 2 2 2 2 2 2 2 2 2 2 2 2 2 2 2 2 2 2 2 2 2 2 2 2 2 2 2 2 2 2 2 2 2\n",
      " 2 2 2 2 2 2 2 2 2 2 2 2 2 2 2 2 2 2 2 2 2 2 2 2 2 2 2 2 2 2 2 2 2 2 2 2 2\n",
      " 2 2 2 2 2 2 2 2 2 2 2 2 2 2 2 2 2 2 2 2 2 2 2 2 2 2 2 2 2 2 2 2 2 2 2 2 2\n",
      " 2 2 2 2 2 2 2 2 2 2 2 2 2 2 2 2 2 2 2 2 2 2 2 2 2 2 2 2 2 2 2 2 2 2 2 2 2\n",
      " 2 2 2 2 2 2 2 2 2 2 2 3 3 3 3 3 3 3 3 3 3 3 3 3 3 3 3 3 3 3 3 3 3 3 3 3 3\n",
      " 3 3 3 3 3 3 3 3 3 3 3 3 3 3 3 3 3 3 3 3 3 3 3 3 3 3 3 3 3 3 3 3 3 3 3 3 3\n",
      " 3 3 3 3 3 3 3 3 3 3 3 3 3 3 3 3 3 3 3 3 3 3 3 3 3 3 3 3 3 3 3 3 3 3 3 3 3\n",
      " 3 3 3 3 3 3 3 3 3 3 3 3 3 3 3 3 3 3 3 3 3 3 3 3 3 3 3 3 3 3 3 3 3 3 3 3 3\n",
      " 3 3 3 3 3 3 3 3 3 3 3 3 3 3 3 3 3 3 3 3 3 3 3 3 3 3 3 3 3 3 3 3 3 3 3 3 3\n",
      " 3 3 3 3 3 3 3 3 3 3 3 3 3 3 3 3 3 3 3 3 3 3 3 3 3 3 3 3 3 3 3 3 3 3 3 3 3\n",
      " 3 3 3 3 3 3 3 3 3 3 3 3 3]\n"
     ]
    }
   ],
   "source": [
    "print(actual)"
   ]
  },
  {
   "cell_type": "code",
   "execution_count": null,
   "metadata": {
    "colab": {
     "base_uri": "https://localhost:8080/"
    },
    "id": "Z8I1IlpXSH0O",
    "outputId": "58507f71-bf95-4789-c7da-f656e445a875"
   },
   "outputs": [
    {
     "name": "stdout",
     "output_type": "stream",
     "text": [
      "[0 0 0 0 0 0 0 0 0 0 0 0 0 0 0 0 0 0 0 0 0 0 0 0 0 0 0 0 0 0 0 0 0 0 0 0 0\n",
      " 0 0 0 0 0 1 0 0 0 0 0 0 0 0 0 0 0 0 0 0 0 0 0 0 0 0 0 0 0 0 0 0 0 0 0 0 0\n",
      " 0 0 2 0 0 0 0 0 0 3 0 0 0 0 0 0 0 1 1 1 1 1 1 1 2 2 2 2 2 2 2 2 2 2 2 2 2\n",
      " 2 2 2 2 2 2 2 2 2 2 2 2 2 2 2 2 2 2 2 2 2 2 2 2 2 2 2 2 2 2 2 2 2 3 2 2 2\n",
      " 2 2 2 2 2 2 2 2 2 2 2 2 2 2 2 2 2 2 2 2 2 2 2 2 2 2 2 2 2 2 2 2 2 2 2 2 2\n",
      " 2 2 2 2 2 2 2 2 2 2 2 2 2 2 2 2 2 2 2 2 2 2 2 2 2 2 2 2 2 2 2 2 2 2 2 2 2\n",
      " 2 2 2 2 2 2 2 2 2 2 2 2 2 2 2 2 2 2 2 2 2 2 2 2 2 2 2 2 2 2 2 2 2 2 2 2 2\n",
      " 2 2 2 2 3 2 2 2 2 2 2 2 2 2 2 2 2 2 2 2 2 2 2 2 2 2 2 2 2 2 2 2 2 2 2 2 2\n",
      " 2 2 2 2 2 2 2 2 2 2 2 2 2 2 2 2 2 2 2 2 2 2 2 2 2 2 2 2 2 2 2 2 2 2 2 2 2\n",
      " 2 2 2 2 2 2 2 2 2 2 2 2 2 2 2 2 2 2 2 2 2 2 2 2 2 2 2 2 2 2 2 2 2 2 2 2 2\n",
      " 2 2 2 2 2 2 2 2 2 2 2 2 2 2 2 2 2 2 2 2 2 2 2 2 2 2 2 2 2 2 2 2 2 2 2 2 2\n",
      " 2 2 2 2 2 2 2 2 2 2 2 3 3 3 3 3 3 3 3 3 3 3 3 3 3 3 3 3 3 3 3 3 3 3 3 3 3\n",
      " 3 3 3 3 3 3 3 3 3 3 3 3 3 2 3 3 2 3 3 3 3 3 3 3 3 3 3 3 3 3 3 3 3 3 3 3 3\n",
      " 3 3 2 3 3 3 3 2 3 3 3 3 3 3 3 3 3 3 3 3 3 3 3 3 3 3 3 3 3 2 3 3 3 3 3 2 3\n",
      " 3 3 3 3 3 3 3 3 3 3 2 3 3 3 3 3 3 3 3 3 3 3 3 3 3 3 3 3 3 3 3 2 3 3 2 3 3\n",
      " 3 3 3 3 3 3 3 3 3 3 3 3 3 3 3 3 3 3 3 3 3 3 3 3 3 3 3 3 3 3 3 3 3 3 3 3 3\n",
      " 3 3 3 3 3 3 3 3 2 2 3 3 3 3 3 3 3 3 3 3 3 3 3 3 3 3 3 3 3 3 3 3 3 3 3 3 3\n",
      " 3 3 3 3 3 3 3 3 3 3 3 3 3]\n"
     ]
    }
   ],
   "source": [
    "print(predict)"
   ]
  },
  {
   "cell_type": "code",
   "execution_count": null,
   "metadata": {
    "id": "wNhrx9WDSKNf"
   },
   "outputs": [],
   "source": []
  },
  {
   "cell_type": "code",
   "execution_count": null,
   "metadata": {
    "id": "TMi_09vz-jEe"
   },
   "outputs": [],
   "source": []
  }
 ],
 "metadata": {
  "accelerator": "GPU",
  "colab": {
   "collapsed_sections": [],
   "name": "DR_99.37.ipynb",
   "provenance": []
  },
  "gpuClass": "standard",
  "kernelspec": {
   "display_name": "Python 3 (ipykernel)",
   "language": "python",
   "name": "python3"
  },
  "language_info": {
   "codemirror_mode": {
    "name": "ipython",
    "version": 3
   },
   "file_extension": ".py",
   "mimetype": "text/x-python",
   "name": "python",
   "nbconvert_exporter": "python",
   "pygments_lexer": "ipython3",
   "version": "3.10.8"
  }
 },
 "nbformat": 4,
 "nbformat_minor": 1
}
